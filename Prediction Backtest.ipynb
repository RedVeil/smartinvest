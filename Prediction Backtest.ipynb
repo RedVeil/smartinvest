{
 "cells": [
  {
   "cell_type": "code",
   "execution_count": 220,
   "metadata": {},
   "outputs": [],
   "source": [
    "import pandas as pd\n",
    "import numpy as np \n",
    "from bokeh.plotting import figure, output_file, show\n",
    "from datetime import timedelta"
   ]
  },
  {
   "cell_type": "code",
   "execution_count": 221,
   "metadata": {},
   "outputs": [
    {
     "data": {
      "text/html": [
       "<div>\n",
       "<style scoped>\n",
       "    .dataframe tbody tr th:only-of-type {\n",
       "        vertical-align: middle;\n",
       "    }\n",
       "\n",
       "    .dataframe tbody tr th {\n",
       "        vertical-align: top;\n",
       "    }\n",
       "\n",
       "    .dataframe thead th {\n",
       "        text-align: right;\n",
       "    }\n",
       "</style>\n",
       "<table border=\"1\" class=\"dataframe\">\n",
       "  <thead>\n",
       "    <tr style=\"text-align: right;\">\n",
       "      <th></th>\n",
       "      <th>Open</th>\n",
       "      <th>High</th>\n",
       "      <th>Low</th>\n",
       "      <th>Close</th>\n",
       "      <th>Adjusted_close</th>\n",
       "      <th>Volume</th>\n",
       "    </tr>\n",
       "    <tr>\n",
       "      <th>Date</th>\n",
       "      <th></th>\n",
       "      <th></th>\n",
       "      <th></th>\n",
       "      <th></th>\n",
       "      <th></th>\n",
       "      <th></th>\n",
       "    </tr>\n",
       "  </thead>\n",
       "  <tbody>\n",
       "    <tr>\n",
       "      <th>1986-03-13</th>\n",
       "      <td>0.088542</td>\n",
       "      <td>0.101563</td>\n",
       "      <td>0.088542</td>\n",
       "      <td>0.097222</td>\n",
       "      <td>0.062549</td>\n",
       "      <td>1031788800</td>\n",
       "    </tr>\n",
       "    <tr>\n",
       "      <th>1986-03-14</th>\n",
       "      <td>0.097222</td>\n",
       "      <td>0.102431</td>\n",
       "      <td>0.097222</td>\n",
       "      <td>0.100694</td>\n",
       "      <td>0.064783</td>\n",
       "      <td>308160000</td>\n",
       "    </tr>\n",
       "    <tr>\n",
       "      <th>1986-03-17</th>\n",
       "      <td>0.100694</td>\n",
       "      <td>0.103299</td>\n",
       "      <td>0.100694</td>\n",
       "      <td>0.102431</td>\n",
       "      <td>0.065899</td>\n",
       "      <td>133171200</td>\n",
       "    </tr>\n",
       "    <tr>\n",
       "      <th>1986-03-18</th>\n",
       "      <td>0.102431</td>\n",
       "      <td>0.103299</td>\n",
       "      <td>0.098958</td>\n",
       "      <td>0.099826</td>\n",
       "      <td>0.064224</td>\n",
       "      <td>67766400</td>\n",
       "    </tr>\n",
       "    <tr>\n",
       "      <th>1986-03-19</th>\n",
       "      <td>0.099826</td>\n",
       "      <td>0.100694</td>\n",
       "      <td>0.097222</td>\n",
       "      <td>0.098090</td>\n",
       "      <td>0.063107</td>\n",
       "      <td>47894400</td>\n",
       "    </tr>\n",
       "  </tbody>\n",
       "</table>\n",
       "</div>"
      ],
      "text/plain": [
       "                Open      High       Low     Close  Adjusted_close      Volume\n",
       "Date                                                                          \n",
       "1986-03-13  0.088542  0.101563  0.088542  0.097222        0.062549  1031788800\n",
       "1986-03-14  0.097222  0.102431  0.097222  0.100694        0.064783   308160000\n",
       "1986-03-17  0.100694  0.103299  0.100694  0.102431        0.065899   133171200\n",
       "1986-03-18  0.102431  0.103299  0.098958  0.099826        0.064224    67766400\n",
       "1986-03-19  0.099826  0.100694  0.097222  0.098090        0.063107    47894400"
      ]
     },
     "execution_count": 221,
     "metadata": {},
     "output_type": "execute_result"
    }
   ],
   "source": [
    "msft = pd.read_csv(\"./MSFT_US.csv\", index_col=\"Date\", parse_dates=[\"Date\"])\n",
    "predictions = pd.read_csv(\"./prediction_MSFT.csv\", index_col=\"Date\", parse_dates=[\"Date\"])\n",
    "msft.head()"
   ]
  },
  {
   "cell_type": "code",
   "execution_count": 222,
   "metadata": {},
   "outputs": [
    {
     "name": "stdout",
     "output_type": "stream",
     "text": [
      "False\n"
     ]
    }
   ],
   "source": [
    "index = msft[msft.index == predictions.index[0]].index[0]\n",
    "msft2 = msft[index:msft.index[-3]]\n",
    "print(len(msft2) == len(predictions))"
   ]
  },
  {
   "cell_type": "code",
   "execution_count": 223,
   "metadata": {},
   "outputs": [
    {
     "name": "stderr",
     "output_type": "stream",
     "text": [
      "c:\\users\\leon\\appdata\\local\\programs\\python\\python37\\lib\\site-packages\\ipykernel_launcher.py:1: SettingWithCopyWarning: \n",
      "A value is trying to be set on a copy of a slice from a DataFrame.\n",
      "Try using .loc[row_indexer,col_indexer] = value instead\n",
      "\n",
      "See the caveats in the documentation: http://pandas.pydata.org/pandas-docs/stable/indexing.html#indexing-view-versus-copy\n",
      "  \"\"\"Entry point for launching an IPython kernel.\n"
     ]
    },
    {
     "data": {
      "text/html": [
       "<div>\n",
       "<style scoped>\n",
       "    .dataframe tbody tr th:only-of-type {\n",
       "        vertical-align: middle;\n",
       "    }\n",
       "\n",
       "    .dataframe tbody tr th {\n",
       "        vertical-align: top;\n",
       "    }\n",
       "\n",
       "    .dataframe thead th {\n",
       "        text-align: right;\n",
       "    }\n",
       "</style>\n",
       "<table border=\"1\" class=\"dataframe\">\n",
       "  <thead>\n",
       "    <tr style=\"text-align: right;\">\n",
       "      <th></th>\n",
       "      <th>Open</th>\n",
       "      <th>High</th>\n",
       "      <th>Low</th>\n",
       "      <th>Close</th>\n",
       "      <th>Adjusted_close</th>\n",
       "      <th>Volume</th>\n",
       "      <th>Prediction</th>\n",
       "    </tr>\n",
       "    <tr>\n",
       "      <th>Date</th>\n",
       "      <th></th>\n",
       "      <th></th>\n",
       "      <th></th>\n",
       "      <th></th>\n",
       "      <th></th>\n",
       "      <th></th>\n",
       "      <th></th>\n",
       "    </tr>\n",
       "  </thead>\n",
       "  <tbody>\n",
       "    <tr>\n",
       "      <th>2013-06-20</th>\n",
       "      <td>34.259998</td>\n",
       "      <td>34.330002</td>\n",
       "      <td>33.369999</td>\n",
       "      <td>33.490002</td>\n",
       "      <td>28.841101</td>\n",
       "      <td>54493700</td>\n",
       "      <td>29.153980</td>\n",
       "    </tr>\n",
       "    <tr>\n",
       "      <th>2013-06-21</th>\n",
       "      <td>33.660000</td>\n",
       "      <td>33.730000</td>\n",
       "      <td>33.049999</td>\n",
       "      <td>33.270000</td>\n",
       "      <td>28.651623</td>\n",
       "      <td>85338500</td>\n",
       "      <td>28.920525</td>\n",
       "    </tr>\n",
       "    <tr>\n",
       "      <th>2013-06-24</th>\n",
       "      <td>32.939999</td>\n",
       "      <td>34.200001</td>\n",
       "      <td>32.570000</td>\n",
       "      <td>33.720001</td>\n",
       "      <td>29.039160</td>\n",
       "      <td>56109000</td>\n",
       "      <td>29.104958</td>\n",
       "    </tr>\n",
       "    <tr>\n",
       "      <th>2013-06-25</th>\n",
       "      <td>34.080002</td>\n",
       "      <td>34.380001</td>\n",
       "      <td>33.459999</td>\n",
       "      <td>33.669998</td>\n",
       "      <td>28.996105</td>\n",
       "      <td>44073400</td>\n",
       "      <td>28.990222</td>\n",
       "    </tr>\n",
       "    <tr>\n",
       "      <th>2013-06-26</th>\n",
       "      <td>34.119999</td>\n",
       "      <td>34.480000</td>\n",
       "      <td>33.889999</td>\n",
       "      <td>34.349998</td>\n",
       "      <td>29.581703</td>\n",
       "      <td>48665900</td>\n",
       "      <td>29.355113</td>\n",
       "    </tr>\n",
       "  </tbody>\n",
       "</table>\n",
       "</div>"
      ],
      "text/plain": [
       "                 Open       High        Low      Close  Adjusted_close  \\\n",
       "Date                                                                     \n",
       "2013-06-20  34.259998  34.330002  33.369999  33.490002       28.841101   \n",
       "2013-06-21  33.660000  33.730000  33.049999  33.270000       28.651623   \n",
       "2013-06-24  32.939999  34.200001  32.570000  33.720001       29.039160   \n",
       "2013-06-25  34.080002  34.380001  33.459999  33.669998       28.996105   \n",
       "2013-06-26  34.119999  34.480000  33.889999  34.349998       29.581703   \n",
       "\n",
       "              Volume  Prediction  \n",
       "Date                              \n",
       "2013-06-20  54493700   29.153980  \n",
       "2013-06-21  85338500   28.920525  \n",
       "2013-06-24  56109000   29.104958  \n",
       "2013-06-25  44073400   28.990222  \n",
       "2013-06-26  48665900   29.355113  "
      ]
     },
     "execution_count": 223,
     "metadata": {},
     "output_type": "execute_result"
    }
   ],
   "source": [
    "msft2[\"Prediction\"] = predictions[\"Prediction_close\"]\n",
    "msft2 = msft2.dropna()\n",
    "msft2.head()"
   ]
  },
  {
   "cell_type": "code",
   "execution_count": 224,
   "metadata": {},
   "outputs": [
    {
     "name": "stdout",
     "output_type": "stream",
     "text": [
      "True\n"
     ]
    }
   ],
   "source": [
    "positions = []\n",
    "for i in range(4,len(msft2[\"Close\"])):\n",
    "    prediction_values = msft2[\"Prediction\"][i-4:i]\n",
    "    if msft2[\"Adjusted_close\"][i] < prediction_values.max():\n",
    "        positions.append(1)\n",
    "    else:\n",
    "        positions.append(0)\n",
    "msft2 = msft2[4:]\n",
    "print(len(msft2) == len(positions))\n",
    "msft2[\"Position\"] = positions\n",
    "msft2[\"Position\"] = msft2[\"Position\"].shift()\n",
    "msft2 = msft2.dropna()"
   ]
  },
  {
   "cell_type": "code",
   "execution_count": 225,
   "metadata": {},
   "outputs": [],
   "source": [
    "msft2[\"StrategyPct\"] = msft2[\"Adjusted_close\"].pct_change(1) * msft2[\"Position\"]\n",
    "msft2[\"Strategy\"] = (msft2[\"StrategyPct\"] + 1).cumprod()\n",
    "msft2[\"BuyHold\"] = (msft2[\"Adjusted_close\"].pct_change(1) + 1).cumprod()"
   ]
  },
  {
   "cell_type": "code",
   "execution_count": 226,
   "metadata": {},
   "outputs": [
    {
     "data": {
      "text/plain": [
       "<matplotlib.axes._subplots.AxesSubplot at 0x2b12c8c5908>"
      ]
     },
     "execution_count": 226,
     "metadata": {},
     "output_type": "execute_result"
    },
    {
     "data": {
      "image/png": "[encoded data removed]",
      "text/plain": [
       "<Figure size 432x288 with 1 Axes>"
      ]
     },
     "metadata": {
      "needs_background": "light"
     },
     "output_type": "display_data"
    }
   ],
   "source": [
    "msft2[[\"Strategy\",\"BuyHold\"]].plot()"
   ]
  },
  {
   "cell_type": "code",
   "execution_count": null,
   "metadata": {},
   "outputs": [],
   "source": []
  }
 ],
 "metadata": {
  "kernelspec": {
   "display_name": "Python 3",
   "language": "python",
   "name": "python3"
  },
  "language_info": {
   "codemirror_mode": {
    "name": "ipython",
    "version": 3
   },
   "file_extension": ".py",
   "mimetype": "text/x-python",
   "name": "python",
   "nbconvert_exporter": "python",
   "pygments_lexer": "ipython3",
   "version": "3.7.2"
  }
 },
 "nbformat": 4,
 "nbformat_minor": 4
}
