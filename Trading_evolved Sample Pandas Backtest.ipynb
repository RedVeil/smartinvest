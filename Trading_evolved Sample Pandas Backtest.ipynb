{
 "cells": [
  {
   "cell_type": "code",
   "execution_count": 21,
   "metadata": {},
   "outputs": [],
   "source": [
    "import pandas as pd\n",
    "import numpy as np\n",
    "from matplotlib.pyplot as plt\n",
    "%matplotlib inline"
   ]
  },
  {
   "cell_type": "code",
   "execution_count": 30,
   "metadata": {},
   "outputs": [],
   "source": [
    "df = pd.read_csv(\"./MSFT_US.csv\", index_col=\"Date\", parse_dates=[\"Date\"])\n",
    "df[\"Close\"] = df[\"Adjusted_close\"]\n",
    "df = df.drop(\"Adjusted_close\",axis=1)"
   ]
  },
  {
   "cell_type": "code",
   "execution_count": 31,
   "metadata": {},
   "outputs": [],
   "source": [
    "df[\"SMA20\"] = df[\"Close\"].rolling(20).mean()\n",
    "df[\"SMA50\"] = df[\"Close\"].rolling(50).mean()"
   ]
  },
  {
   "cell_type": "code",
   "execution_count": 32,
   "metadata": {},
   "outputs": [
    {
     "data": {
      "text/html": [
       "<div>\n",
       "<style scoped>\n",
       "    .dataframe tbody tr th:only-of-type {\n",
       "        vertical-align: middle;\n",
       "    }\n",
       "\n",
       "    .dataframe tbody tr th {\n",
       "        vertical-align: top;\n",
       "    }\n",
       "\n",
       "    .dataframe thead th {\n",
       "        text-align: right;\n",
       "    }\n",
       "</style>\n",
       "<table border=\"1\" class=\"dataframe\">\n",
       "  <thead>\n",
       "    <tr style=\"text-align: right;\">\n",
       "      <th></th>\n",
       "      <th>Open</th>\n",
       "      <th>High</th>\n",
       "      <th>Low</th>\n",
       "      <th>Close</th>\n",
       "      <th>Volume</th>\n",
       "      <th>SMA20</th>\n",
       "      <th>SMA50</th>\n",
       "      <th>Position</th>\n",
       "    </tr>\n",
       "    <tr>\n",
       "      <th>Date</th>\n",
       "      <th></th>\n",
       "      <th></th>\n",
       "      <th></th>\n",
       "      <th></th>\n",
       "      <th></th>\n",
       "      <th></th>\n",
       "      <th></th>\n",
       "      <th></th>\n",
       "    </tr>\n",
       "  </thead>\n",
       "  <tbody>\n",
       "    <tr>\n",
       "      <th>1986-05-22</th>\n",
       "      <td>0.107639</td>\n",
       "      <td>0.108507</td>\n",
       "      <td>0.107639</td>\n",
       "      <td>0.069250</td>\n",
       "      <td>4406400</td>\n",
       "      <td>0.071596</td>\n",
       "      <td>0.066564</td>\n",
       "      <td>0.0</td>\n",
       "    </tr>\n",
       "    <tr>\n",
       "      <th>1986-05-23</th>\n",
       "      <td>0.107639</td>\n",
       "      <td>0.109375</td>\n",
       "      <td>0.107639</td>\n",
       "      <td>0.069250</td>\n",
       "      <td>4089600</td>\n",
       "      <td>0.071289</td>\n",
       "      <td>0.066698</td>\n",
       "      <td>1.0</td>\n",
       "    </tr>\n",
       "    <tr>\n",
       "      <th>1986-05-27</th>\n",
       "      <td>0.107639</td>\n",
       "      <td>0.111111</td>\n",
       "      <td>0.107639</td>\n",
       "      <td>0.071484</td>\n",
       "      <td>13881600</td>\n",
       "      <td>0.071065</td>\n",
       "      <td>0.066832</td>\n",
       "      <td>1.0</td>\n",
       "    </tr>\n",
       "    <tr>\n",
       "      <th>1986-05-28</th>\n",
       "      <td>0.111111</td>\n",
       "      <td>0.114583</td>\n",
       "      <td>0.111111</td>\n",
       "      <td>0.073718</td>\n",
       "      <td>15523200</td>\n",
       "      <td>0.071065</td>\n",
       "      <td>0.066988</td>\n",
       "      <td>1.0</td>\n",
       "    </tr>\n",
       "    <tr>\n",
       "      <th>1986-05-29</th>\n",
       "      <td>0.114583</td>\n",
       "      <td>0.118924</td>\n",
       "      <td>0.113715</td>\n",
       "      <td>0.075393</td>\n",
       "      <td>45676800</td>\n",
       "      <td>0.071233</td>\n",
       "      <td>0.067212</td>\n",
       "      <td>1.0</td>\n",
       "    </tr>\n",
       "  </tbody>\n",
       "</table>\n",
       "</div>"
      ],
      "text/plain": [
       "                Open      High       Low     Close    Volume     SMA20  \\\n",
       "Date                                                                     \n",
       "1986-05-22  0.107639  0.108507  0.107639  0.069250   4406400  0.071596   \n",
       "1986-05-23  0.107639  0.109375  0.107639  0.069250   4089600  0.071289   \n",
       "1986-05-27  0.107639  0.111111  0.107639  0.071484  13881600  0.071065   \n",
       "1986-05-28  0.111111  0.114583  0.111111  0.073718  15523200  0.071065   \n",
       "1986-05-29  0.114583  0.118924  0.113715  0.075393  45676800  0.071233   \n",
       "\n",
       "               SMA50  Position  \n",
       "Date                            \n",
       "1986-05-22  0.066564       0.0  \n",
       "1986-05-23  0.066698       1.0  \n",
       "1986-05-27  0.066832       1.0  \n",
       "1986-05-28  0.066988       1.0  \n",
       "1986-05-29  0.067212       1.0  "
      ]
     },
     "execution_count": 32,
     "metadata": {},
     "output_type": "execute_result"
    }
   ],
   "source": [
    "df[\"Position\"] = np.where(df[\"SMA20\"] > df[\"SMA50\"],1,0)\n",
    "df[\"Position\"] = df[\"Position\"].shift()\n",
    "df = df.dropna()\n",
    "df.head()"
   ]
  },
  {
   "cell_type": "code",
   "execution_count": 33,
   "metadata": {},
   "outputs": [],
   "source": [
    "df[\"StrategyPct\"] = df[\"Close\"].pct_change(1) * df[\"Position\"]\n",
    "df[\"Strategy\"] = (df[\"StrategyPct\"] + 1).cumprod()\n",
    "df[\"BuyHold\"] = (df[\"Close\"].pct_change(1) + 1).cumprod()"
   ]
  },
  {
   "cell_type": "code",
   "execution_count": 34,
   "metadata": {},
   "outputs": [
    {
     "data": {
      "text/plain": [
       "<matplotlib.axes._subplots.AxesSubplot at 0x249718be2b0>"
      ]
     },
     "execution_count": 34,
     "metadata": {},
     "output_type": "execute_result"
    },
    {
     "data": {
      "image/png": "[encoded data removed]",
      "text/plain": [
       "<Figure size 432x288 with 1 Axes>"
      ]
     },
     "metadata": {
      "needs_background": "light"
     },
     "output_type": "display_data"
    }
   ],
   "source": [
    "df[[\"Strategy\",\"BuyHold\"]].plot()"
   ]
  },
  {
   "cell_type": "code",
   "execution_count": null,
   "metadata": {},
   "outputs": [],
   "source": []
  }
 ],
 "metadata": {
  "kernelspec": {
   "display_name": "Python 3",
   "language": "python",
   "name": "python3"
  },
  "language_info": {
   "codemirror_mode": {
    "name": "ipython",
    "version": 3
   },
   "file_extension": ".py",
   "mimetype": "text/x-python",
   "name": "python",
   "nbconvert_exporter": "python",
   "pygments_lexer": "ipython3",
   "version": "3.8.2"
  }
 },
 "nbformat": 4,
 "nbformat_minor": 4
}
