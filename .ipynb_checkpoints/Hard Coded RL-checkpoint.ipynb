{
 "cells": [
  {
   "cell_type": "code",
   "execution_count": 24,
   "metadata": {},
   "outputs": [],
   "source": [
    "import pandas as pd\n",
    "import numpy as np\n",
    "import time"
   ]
  },
  {
   "cell_type": "code",
   "execution_count": 34,
   "metadata": {},
   "outputs": [],
   "source": [
    "df = pd.read_csv(\"./data/modified_MSFT.csv\",)#parse_dates=[\"Date\"]"
   ]
  },
  {
   "cell_type": "code",
   "execution_count": 75,
   "metadata": {},
   "outputs": [],
   "source": [
    "def get_state(data, t, n):\n",
    "    print(t,n)\n",
    "    d = t - n + 1\n",
    "    print(d)\n",
    "    block = data[d:t + 1] if d >= 0 else -d * [data[0]] + data[0:t + 1]\n",
    "    print(block)\n",
    "    res = []\n",
    "    for i in range(n - 1):\n",
    "        res.append(block[i + 1] - block[i])\n",
    "    #return np.array([res])"
   ]
  },
  {
   "cell_type": "code",
   "execution_count": 36,
   "metadata": {},
   "outputs": [],
   "source": [
    "class Deep_Evolution_Strategy:\n",
    "\n",
    "    def __init__(self, weights, \n",
    "                 reward_function, \n",
    "                 population_size, \n",
    "                 sigma, learning_rate):\n",
    "        self.weights = weights\n",
    "        self.reward_function = reward_function\n",
    "        self.population_size = population_size\n",
    "        self.sigma = sigma\n",
    "        self.learning_rate = learning_rate\n",
    "\n",
    "    def _get_w_population(\n",
    "        self, \n",
    "        weights, \n",
    "        population):\n",
    "        weights_population = []\n",
    "        for index, i in enumerate(population):\n",
    "            jittered = self.sigma * i\n",
    "            weights_population.append(weights[index] + jittered)\n",
    "        return weights_population\n",
    "\n",
    "    def get_weights(self):\n",
    "        return self.weights\n",
    "\n",
    "    def train(self, epoch = 100, print_every = 1):\n",
    "        lasttime = time.time()\n",
    "        for i in range(epoch):\n",
    "            population = []\n",
    "            rewards = np.zeros(self.population_size)\n",
    "            for k in range(self.population_size):\n",
    "                x = []\n",
    "                for w in self.weights:\n",
    "                    x.append(np.random.randn(*w.shape))\n",
    "                population.append(x)\n",
    "            for k in range(self.population_size):\n",
    "                weights_population = self._get_w_population(self.weights, population[k])\n",
    "                rewards[k] = self.reward_function(weights_population)\n",
    "                rewards = (rewards - np.mean(rewards)) / np.std(rewards)\n",
    "            for index, w in enumerate(self.weights):\n",
    "                A = np.array([p[index] for p in population])\n",
    "                self.weights[index] = w + self.learning_rate / (self.population_size * self.sigma) * np.dot(A.T, rewards).T\n",
    "            \n",
    "            if (i+1) % print_every == 0:\n",
    "                print('iter %d. reward: %f' %  (i+1,self.reward_function(self.weights)))        \n",
    "                print('time taken to train:', time.time()-lasttime, 'seconds')"
   ]
  },
  {
   "cell_type": "code",
   "execution_count": 37,
   "metadata": {},
   "outputs": [],
   "source": [
    "class Model:\n",
    "    def __init__(self, input_size, layer_size, output_size):\n",
    "        self.weights = [np.random.randn(input_size, layer_size), \n",
    "                        np.random.randn(layer_size, output_size),\n",
    "                        np.random.randn(layer_size, 1),\n",
    "                        np.random.randn(1, layer_size)]\n",
    "    \n",
    "    def predict(self, inputs):\n",
    "        feed = np.dot(inputs, self.weights[0]) + self.weights[-1]\n",
    "        decision = np.dot(feed, self.weights[1])\n",
    "        buy = np.dot(feed, self.weights[2])\n",
    "        return decision, buy\n",
    "    \n",
    "    def get_weights(self):\n",
    "        return self.weights\n",
    "\n",
    "    def set_weights(self, weights):\n",
    "        self.weights = weights"
   ]
  },
  {
   "cell_type": "code",
   "execution_count": 38,
   "metadata": {},
   "outputs": [],
   "source": [
    "class Agent:\n",
    "    POPULATION_SIZE = 15\n",
    "    SIGMA = 0.1\n",
    "    LEARNING_RATE = 0.03\n",
    "    \n",
    "    def __init__(self, model, money, max_buy, max_sell, close, window_size, skip):\n",
    "        self.window_size = window_size\n",
    "        self.skip = skip\n",
    "        self.close = close\n",
    "        self.model = model\n",
    "        self.initial_money = money\n",
    "        self.max_buy = max_buy\n",
    "        self.max_sell = max_sell\n",
    "        self.es = Deep_Evolution_Strategy(\n",
    "                  self.model.get_weights(), \n",
    "                  self.get_reward, \n",
    "                  self.POPULATION_SIZE, \n",
    "                  self.SIGMA, \n",
    "                  self.LEARNING_RATE)\n",
    "    \n",
    "    def act(self, sequence):\n",
    "        decision, buy = self.model.predict(np.array(sequence))\n",
    "        return np.argmax(decision[0]), int(buy[0])\n",
    "    \n",
    "    def get_reward(self, weights):\n",
    "        initial_money = self.initial_money\n",
    "        starting_money = initial_money\n",
    "        len_close = len(self.close) - 1\n",
    "        \n",
    "        self.model.weights = weights\n",
    "        state = get_state(self.close, 0, self.window_size + 1)\n",
    "        inventory = []\n",
    "        quantity = 0\n",
    "        for t in range(0, len_close, self.skip):\n",
    "            action, buy = self.act(state)\n",
    "            next_state = get_state(\n",
    "                         self.close, \n",
    "                         t + 1, \n",
    "                         self.window_size + 1)\n",
    "            if action == 1 and initial_money >= self.close[t]:\n",
    "                if buy < 0:\n",
    "                    buy = 1\n",
    "                if buy > self.max_buy:\n",
    "                    buy_units = self.max_buy\n",
    "                else:\n",
    "                    buy_units = buy\n",
    "                total_buy = buy_units * self.close[t]\n",
    "                initial_money -= total_buy\n",
    "                inventory.append(total_buy)\n",
    "                quantity += buy_units\n",
    "            elif action == 2 and len(inventory) > 0:\n",
    "                if quantity > self.max_sell:\n",
    "                    sell_units = self.max_sell\n",
    "                else:\n",
    "                    sell_units = quantity\n",
    "                quantity -= sell_units\n",
    "                total_sell = sell_units * self.close[t]\n",
    "                initial_money += total_sell\n",
    "                \n",
    "            state = next_state\n",
    "        return ((initial_money - starting_money) / starting_money) \\\n",
    "               * 100\n",
    "    \n",
    "    def fit(self, iterations, checkpoint):\n",
    "        self.es.train(iterations, print_every=checkpoint)\n",
    "        \n",
    "    def buy(self):\n",
    "        initial_money = self.initial_money\n",
    "        len_close = len(self.close) - 1\n",
    "        state = get_state(self.close, 0, self.window_size + 1)\n",
    "        starting_money = initial_money\n",
    "        states_sell = []\n",
    "        states_buy = []\n",
    "        inventory = []\n",
    "        quantity = 0\n",
    "        for t in range(0, len_close, self.skip):\n",
    "            action, buy = self.act(state)\n",
    "            next_state = get_state(\n",
    "                         self.close, \n",
    "                         t + 1, \n",
    "                         self.window_size + 1)\n",
    "            if action == 1 and initial_money >= self.close[t]:\n",
    "                if buy < 0:\n",
    "                    buy = 1\n",
    "                if buy > self.max_buy:\n",
    "                    buy_units = self.max_buy\n",
    "                else:\n",
    "                    buy_units = buy\n",
    "                total_buy = buy_units * self.close[t]\n",
    "                initial_money -= total_buy\n",
    "                inventory.append(total_buy)\n",
    "                quantity += buy_units\n",
    "                states_buy.append(t)\n",
    "                print(f\"day {t}: buy {buy_units} units at price{total_buy}, total balance {initial_money}\")\n",
    "            elif action == 2 and len(inventory) > 0:\n",
    "                bought_price = inventory.pop(0)\n",
    "                if quantity > self.max_sell:\n",
    "                    sell_units = self.max_sell\n",
    "                else:\n",
    "                    sell_units = quantity\n",
    "                if sell_units < 1:\n",
    "                    continue\n",
    "                quantity -= sell_units\n",
    "                total_sell = sell_units * self.close[t]\n",
    "                initial_money += total_sell\n",
    "                states_sell.append(t)\n",
    "                try:\n",
    "                    invest = ((total_sell - bought_price)/bought_price) * 100\n",
    "                except:\n",
    "                    invest = 0\n",
    "                print('''day %d, sell %d units at price %f,\n",
    "                         investment %f %%, total balance %f'''%(t, sell_units, total_sell, invest, initial_money))\n",
    "            state = next_state\n",
    "        \n",
    "        invest = ((initial_money - starting_money)/starting_money)* 100\n",
    "        print(f'total gained {initial_money - starting_money}, total investment {invest}')\n",
    "        plt.figure(figsize=(20,10))\n",
    "        plt.plot(close, label='true close',c='g')\n",
    "        plt.plot(close, 'X', label='predict buy',markevery=states_buy, c='b')\n",
    "        plt.plot(close, 'o', label='predict sell',markevery=states_sell,c='r')\n",
    "        plt.legend()\n",
    "        plt.show()"
   ]
  },
  {
   "cell_type": "code",
   "execution_count": 42,
   "metadata": {},
   "outputs": [],
   "source": [
    "model = Model(input_size = 30, \n",
    "              layer_size = 500, \n",
    "              output_size = 3)\n",
    "agent = Agent(model = model,\n",
    "             money = 10000,\n",
    "             max_buy = 5,\n",
    "             max_sell = 5,\n",
    "             close = df[\"Close\"].values,\n",
    "             window_size = 30,\n",
    "             skip = 1)"
   ]
  },
  {
   "cell_type": "code",
   "execution_count": 43,
   "metadata": {},
   "outputs": [
    {
     "ename": "IndexError",
     "evalue": "index 30 is out of bounds for axis 0 with size 30",
     "output_type": "error",
     "traceback": [
      "\u001b[1;31m---------------------------------------------------------------------------\u001b[0m",
      "\u001b[1;31mIndexError\u001b[0m                                Traceback (most recent call last)",
      "\u001b[1;32m<ipython-input-43-d97697984016>\u001b[0m in \u001b[0;36m<module>\u001b[1;34m\u001b[0m\n\u001b[1;32m----> 1\u001b[1;33m \u001b[0magent\u001b[0m\u001b[1;33m.\u001b[0m\u001b[0mfit\u001b[0m\u001b[1;33m(\u001b[0m\u001b[0miterations\u001b[0m \u001b[1;33m=\u001b[0m \u001b[1;36m500\u001b[0m\u001b[1;33m,\u001b[0m \u001b[0mcheckpoint\u001b[0m \u001b[1;33m=\u001b[0m \u001b[1;36m10\u001b[0m\u001b[1;33m)\u001b[0m\u001b[1;33m\u001b[0m\u001b[1;33m\u001b[0m\u001b[0m\n\u001b[0m",
      "\u001b[1;32m<ipython-input-38-5d87e88e9089>\u001b[0m in \u001b[0;36mfit\u001b[1;34m(self, iterations, checkpoint)\u001b[0m\n\u001b[0;32m     63\u001b[0m \u001b[1;33m\u001b[0m\u001b[0m\n\u001b[0;32m     64\u001b[0m     \u001b[1;32mdef\u001b[0m \u001b[0mfit\u001b[0m\u001b[1;33m(\u001b[0m\u001b[0mself\u001b[0m\u001b[1;33m,\u001b[0m \u001b[0miterations\u001b[0m\u001b[1;33m,\u001b[0m \u001b[0mcheckpoint\u001b[0m\u001b[1;33m)\u001b[0m\u001b[1;33m:\u001b[0m\u001b[1;33m\u001b[0m\u001b[1;33m\u001b[0m\u001b[0m\n\u001b[1;32m---> 65\u001b[1;33m         \u001b[0mself\u001b[0m\u001b[1;33m.\u001b[0m\u001b[0mes\u001b[0m\u001b[1;33m.\u001b[0m\u001b[0mtrain\u001b[0m\u001b[1;33m(\u001b[0m\u001b[0miterations\u001b[0m\u001b[1;33m,\u001b[0m \u001b[0mprint_every\u001b[0m\u001b[1;33m=\u001b[0m\u001b[0mcheckpoint\u001b[0m\u001b[1;33m)\u001b[0m\u001b[1;33m\u001b[0m\u001b[1;33m\u001b[0m\u001b[0m\n\u001b[0m\u001b[0;32m     66\u001b[0m \u001b[1;33m\u001b[0m\u001b[0m\n\u001b[0;32m     67\u001b[0m     \u001b[1;32mdef\u001b[0m \u001b[0mbuy\u001b[0m\u001b[1;33m(\u001b[0m\u001b[0mself\u001b[0m\u001b[1;33m)\u001b[0m\u001b[1;33m:\u001b[0m\u001b[1;33m\u001b[0m\u001b[1;33m\u001b[0m\u001b[0m\n",
      "\u001b[1;32m<ipython-input-36-54f75705ef19>\u001b[0m in \u001b[0;36mtrain\u001b[1;34m(self, epoch, print_every)\u001b[0m\n\u001b[0;32m     36\u001b[0m             \u001b[1;32mfor\u001b[0m \u001b[0mk\u001b[0m \u001b[1;32min\u001b[0m \u001b[0mrange\u001b[0m\u001b[1;33m(\u001b[0m\u001b[0mself\u001b[0m\u001b[1;33m.\u001b[0m\u001b[0mpopulation_size\u001b[0m\u001b[1;33m)\u001b[0m\u001b[1;33m:\u001b[0m\u001b[1;33m\u001b[0m\u001b[1;33m\u001b[0m\u001b[0m\n\u001b[0;32m     37\u001b[0m                 \u001b[0mweights_population\u001b[0m \u001b[1;33m=\u001b[0m \u001b[0mself\u001b[0m\u001b[1;33m.\u001b[0m\u001b[0m_get_w_population\u001b[0m\u001b[1;33m(\u001b[0m\u001b[0mself\u001b[0m\u001b[1;33m.\u001b[0m\u001b[0mweights\u001b[0m\u001b[1;33m,\u001b[0m \u001b[0mpopulation\u001b[0m\u001b[1;33m[\u001b[0m\u001b[0mk\u001b[0m\u001b[1;33m]\u001b[0m\u001b[1;33m)\u001b[0m\u001b[1;33m\u001b[0m\u001b[1;33m\u001b[0m\u001b[0m\n\u001b[1;32m---> 38\u001b[1;33m                 \u001b[0mrewards\u001b[0m\u001b[1;33m[\u001b[0m\u001b[0mk\u001b[0m\u001b[1;33m]\u001b[0m \u001b[1;33m=\u001b[0m \u001b[0mself\u001b[0m\u001b[1;33m.\u001b[0m\u001b[0mreward_function\u001b[0m\u001b[1;33m(\u001b[0m\u001b[0mweights_population\u001b[0m\u001b[1;33m)\u001b[0m\u001b[1;33m\u001b[0m\u001b[1;33m\u001b[0m\u001b[0m\n\u001b[0m\u001b[0;32m     39\u001b[0m                 \u001b[0mrewards\u001b[0m \u001b[1;33m=\u001b[0m \u001b[1;33m(\u001b[0m\u001b[0mrewards\u001b[0m \u001b[1;33m-\u001b[0m \u001b[0mnp\u001b[0m\u001b[1;33m.\u001b[0m\u001b[0mmean\u001b[0m\u001b[1;33m(\u001b[0m\u001b[0mrewards\u001b[0m\u001b[1;33m)\u001b[0m\u001b[1;33m)\u001b[0m \u001b[1;33m/\u001b[0m \u001b[0mnp\u001b[0m\u001b[1;33m.\u001b[0m\u001b[0mstd\u001b[0m\u001b[1;33m(\u001b[0m\u001b[0mrewards\u001b[0m\u001b[1;33m)\u001b[0m\u001b[1;33m\u001b[0m\u001b[1;33m\u001b[0m\u001b[0m\n\u001b[0;32m     40\u001b[0m             \u001b[1;32mfor\u001b[0m \u001b[0mindex\u001b[0m\u001b[1;33m,\u001b[0m \u001b[0mw\u001b[0m \u001b[1;32min\u001b[0m \u001b[0menumerate\u001b[0m\u001b[1;33m(\u001b[0m\u001b[0mself\u001b[0m\u001b[1;33m.\u001b[0m\u001b[0mweights\u001b[0m\u001b[1;33m)\u001b[0m\u001b[1;33m:\u001b[0m\u001b[1;33m\u001b[0m\u001b[1;33m\u001b[0m\u001b[0m\n",
      "\u001b[1;32m<ipython-input-38-5d87e88e9089>\u001b[0m in \u001b[0;36mget_reward\u001b[1;34m(self, weights)\u001b[0m\n\u001b[0;32m     29\u001b[0m \u001b[1;33m\u001b[0m\u001b[0m\n\u001b[0;32m     30\u001b[0m         \u001b[0mself\u001b[0m\u001b[1;33m.\u001b[0m\u001b[0mmodel\u001b[0m\u001b[1;33m.\u001b[0m\u001b[0mweights\u001b[0m \u001b[1;33m=\u001b[0m \u001b[0mweights\u001b[0m\u001b[1;33m\u001b[0m\u001b[1;33m\u001b[0m\u001b[0m\n\u001b[1;32m---> 31\u001b[1;33m         \u001b[0mstate\u001b[0m \u001b[1;33m=\u001b[0m \u001b[0mget_state\u001b[0m\u001b[1;33m(\u001b[0m\u001b[0mself\u001b[0m\u001b[1;33m.\u001b[0m\u001b[0mclose\u001b[0m\u001b[1;33m,\u001b[0m \u001b[1;36m0\u001b[0m\u001b[1;33m,\u001b[0m \u001b[0mself\u001b[0m\u001b[1;33m.\u001b[0m\u001b[0mwindow_size\u001b[0m \u001b[1;33m+\u001b[0m \u001b[1;36m1\u001b[0m\u001b[1;33m)\u001b[0m\u001b[1;33m\u001b[0m\u001b[1;33m\u001b[0m\u001b[0m\n\u001b[0m\u001b[0;32m     32\u001b[0m         \u001b[0minventory\u001b[0m \u001b[1;33m=\u001b[0m \u001b[1;33m[\u001b[0m\u001b[1;33m]\u001b[0m\u001b[1;33m\u001b[0m\u001b[1;33m\u001b[0m\u001b[0m\n\u001b[0;32m     33\u001b[0m         \u001b[0mquantity\u001b[0m \u001b[1;33m=\u001b[0m \u001b[1;36m0\u001b[0m\u001b[1;33m\u001b[0m\u001b[1;33m\u001b[0m\u001b[0m\n",
      "\u001b[1;32m<ipython-input-35-e69d3fe6fef3>\u001b[0m in \u001b[0;36mget_state\u001b[1;34m(data, t, n)\u001b[0m\n\u001b[0;32m      4\u001b[0m     \u001b[0mres\u001b[0m \u001b[1;33m=\u001b[0m \u001b[1;33m[\u001b[0m\u001b[1;33m]\u001b[0m\u001b[1;33m\u001b[0m\u001b[1;33m\u001b[0m\u001b[0m\n\u001b[0;32m      5\u001b[0m     \u001b[1;32mfor\u001b[0m \u001b[0mi\u001b[0m \u001b[1;32min\u001b[0m \u001b[0mrange\u001b[0m\u001b[1;33m(\u001b[0m\u001b[0mn\u001b[0m \u001b[1;33m-\u001b[0m \u001b[1;36m1\u001b[0m\u001b[1;33m)\u001b[0m\u001b[1;33m:\u001b[0m\u001b[1;33m\u001b[0m\u001b[1;33m\u001b[0m\u001b[0m\n\u001b[1;32m----> 6\u001b[1;33m         \u001b[0mres\u001b[0m\u001b[1;33m.\u001b[0m\u001b[0mappend\u001b[0m\u001b[1;33m(\u001b[0m\u001b[0mblock\u001b[0m\u001b[1;33m[\u001b[0m\u001b[0mi\u001b[0m \u001b[1;33m+\u001b[0m \u001b[1;36m1\u001b[0m\u001b[1;33m]\u001b[0m \u001b[1;33m-\u001b[0m \u001b[0mblock\u001b[0m\u001b[1;33m[\u001b[0m\u001b[0mi\u001b[0m\u001b[1;33m]\u001b[0m\u001b[1;33m)\u001b[0m\u001b[1;33m\u001b[0m\u001b[1;33m\u001b[0m\u001b[0m\n\u001b[0m\u001b[0;32m      7\u001b[0m     \u001b[1;32mreturn\u001b[0m \u001b[0mnp\u001b[0m\u001b[1;33m.\u001b[0m\u001b[0marray\u001b[0m\u001b[1;33m(\u001b[0m\u001b[1;33m[\u001b[0m\u001b[0mres\u001b[0m\u001b[1;33m]\u001b[0m\u001b[1;33m)\u001b[0m\u001b[1;33m\u001b[0m\u001b[1;33m\u001b[0m\u001b[0m\n",
      "\u001b[1;31mIndexError\u001b[0m: index 30 is out of bounds for axis 0 with size 30"
     ]
    }
   ],
   "source": [
    "agent.fit(iterations = 500, checkpoint = 10)"
   ]
  },
  {
   "cell_type": "code",
   "execution_count": 54,
   "metadata": {},
   "outputs": [
    {
     "data": {
      "text/plain": [
       "-2.2922814957919826"
      ]
     },
     "execution_count": 54,
     "metadata": {},
     "output_type": "execute_result"
    }
   ],
   "source": [
    "x = np.random.randn(30,500)\n",
    "x[0][0]"
   ]
  },
  {
   "cell_type": "code",
   "execution_count": 55,
   "metadata": {},
   "outputs": [
    {
     "data": {
      "text/plain": [
       "-1.677516139922751"
      ]
     },
     "execution_count": 55,
     "metadata": {},
     "output_type": "execute_result"
    }
   ],
   "source": [
    "x[1][0]"
   ]
  },
  {
   "cell_type": "code",
   "execution_count": 57,
   "metadata": {},
   "outputs": [
    {
     "data": {
      "text/plain": [
       "-0.6147653558692316"
      ]
     },
     "execution_count": 57,
     "metadata": {},
     "output_type": "execute_result"
    }
   ],
   "source": [
    "y = x[0] - x[1]\n",
    "y[0]"
   ]
  },
  {
   "cell_type": "code",
   "execution_count": 58,
   "metadata": {},
   "outputs": [
    {
     "data": {
      "text/plain": [
       "-0.6147653558692316"
      ]
     },
     "execution_count": 58,
     "metadata": {},
     "output_type": "execute_result"
    }
   ],
   "source": [
    "x[0][0] - x[1][0]"
   ]
  },
  {
   "cell_type": "code",
   "execution_count": 59,
   "metadata": {},
   "outputs": [
    {
     "name": "stdout",
     "output_type": "stream",
     "text": [
      "-46.347551367793834\n"
     ]
    }
   ],
   "source": [
    "print(np.dot(x[0],x[-1]))"
   ]
  },
  {
   "cell_type": "code",
   "execution_count": 61,
   "metadata": {},
   "outputs": [
    {
     "name": "stdout",
     "output_type": "stream",
     "text": [
      "[[-46.0806614  -46.9003029  -46.41812442 -46.67468783 -45.46235026\n",
      "  -47.57266247 -46.21009512 -45.89794066 -47.89042715 -46.51843999\n",
      "  -43.54002094 -45.25558484 -45.4296808  -44.99445548 -44.83695339\n",
      "  -46.73633195 -47.29412232 -47.52588115 -46.02672831 -45.56920538\n",
      "  -44.61870552 -48.2898838  -45.66284825 -45.74158922 -47.33663672\n",
      "  -46.85503202 -45.01556615 -46.9378362  -47.15176573 -47.83005736\n",
      "  -45.5050164  -46.36897406 -46.81752779 -47.20530721 -45.55410581\n",
      "  -44.37668692 -46.69604469 -46.65830765 -46.73205922 -44.98023716\n",
      "  -47.11410561 -45.40677226 -47.35374397 -47.16371326 -44.47417907\n",
      "  -44.63220461 -47.1745382  -46.97249218 -46.82450795 -46.30095533\n",
      "  -47.05663315 -46.82043723 -46.49705108 -44.75190141 -45.66208178\n",
      "  -46.54863082 -45.94780441 -45.6153115  -46.3870093  -45.96435058\n",
      "  -46.45136524 -46.83945721 -45.91272944 -46.41059927 -46.69145343\n",
      "  -47.0907534  -46.5023215  -45.059603   -46.58586118 -48.00152949\n",
      "  -45.61965664 -46.09609027 -44.69440988 -47.13124742 -47.295374\n",
      "  -46.3691078  -46.32826775 -46.31270651 -46.59695041 -46.70900731\n",
      "  -45.43764584 -48.24626226 -46.73221608 -46.23789946 -45.44776707\n",
      "  -46.15724882 -46.58499881 -46.19367857 -47.69132394 -47.14285902\n",
      "  -47.91191188 -47.06846407 -47.03970217 -43.8668269  -47.48340964\n",
      "  -45.23683763 -46.54572588 -46.54764241 -46.4954696  -47.65981017\n",
      "  -45.22988927 -44.18505464 -46.37722621 -47.31425615 -45.77648449\n",
      "  -46.23309048 -46.88284856 -47.88503556 -46.63417315 -47.45402248\n",
      "  -46.93164834 -46.96056878 -46.77245645 -45.54475852 -44.95000315\n",
      "  -47.50602837 -46.09307882 -46.99477666 -47.00993695 -46.39425737\n",
      "  -45.56671879 -45.90086045 -46.26259655 -46.41820605 -46.66431185\n",
      "  -47.11604783 -46.87894525 -46.53869246 -46.5055294  -46.26188642\n",
      "  -45.88396426 -46.45016614 -45.50183395 -45.31856336 -46.39324923\n",
      "  -45.38477572 -46.56585053 -47.10152786 -46.87818612 -44.87463792\n",
      "  -45.08491696 -45.66701575 -45.03461195 -46.9027529  -46.87268264\n",
      "  -46.56624771 -45.38016989 -44.72964323 -46.14596046 -47.21505506\n",
      "  -45.76361398 -46.75979911 -45.6914557  -45.2676001  -45.83276278\n",
      "  -46.95816745 -45.46594659 -46.00891223 -46.80726706 -44.85303873\n",
      "  -46.05939481 -45.81333692 -46.02125317 -48.5878204  -45.12360934\n",
      "  -45.80085034 -48.54291647 -48.27340061 -45.96919248 -44.62020271\n",
      "  -46.62052996 -47.67122165 -45.47078554 -45.72465822 -46.48282379\n",
      "  -46.60063517 -45.30048144 -45.76076706 -45.98046203 -46.64209815\n",
      "  -46.91290657 -46.38736444 -48.80173293 -47.18214145 -45.57122894\n",
      "  -47.19457749 -46.52758833 -48.52282968 -46.29170695 -45.98500762\n",
      "  -47.17462247 -45.68871842 -44.3493924  -47.39550761 -45.84024326\n",
      "  -46.37121424 -45.27872253 -48.59123107 -46.782867   -46.75143064\n",
      "  -46.39706729 -47.48506857 -48.4877306  -43.93559833 -45.94471886\n",
      "  -45.45725973 -46.50740018 -46.48993609 -45.80249515 -46.58736354\n",
      "  -46.45419636 -46.84165067 -48.36642846 -47.02983028 -45.27778842\n",
      "  -45.57050097 -44.62951049 -45.41083465 -45.47242651 -47.82340374\n",
      "  -45.71543344 -46.56076513 -46.91242252 -47.05148979 -44.87300599\n",
      "  -46.16663579 -45.93277988 -45.16713745 -47.03919028 -48.28656344\n",
      "  -44.93989205 -47.57521311 -46.6373612  -46.80360316 -44.12960527\n",
      "  -46.67979272 -47.10592618 -47.19124551 -46.54877107 -46.0061476\n",
      "  -46.77230412 -46.91382077 -44.77704059 -46.95899121 -45.52596602\n",
      "  -45.44700959 -46.38769256 -47.13405368 -46.73526295 -47.552247\n",
      "  -49.11020535 -45.64644436 -46.81690287 -47.60592416 -47.98790093\n",
      "  -45.92235989 -47.05248442 -45.72065872 -46.76965101 -46.93653154\n",
      "  -44.97068359 -46.80728778 -47.23921897 -45.24926077 -47.93091703\n",
      "  -46.43990759 -47.34138183 -46.46997746 -47.00078902 -47.9236933\n",
      "  -45.97142406 -46.94548545 -45.43569329 -46.38141064 -45.60303316\n",
      "  -47.54133686 -46.5429301  -48.15587478 -47.7389216  -47.15435546\n",
      "  -46.1250303  -45.49755821 -47.50292295 -46.18627723 -46.78436301\n",
      "  -47.00246265 -46.8380604  -46.57136994 -45.35470334 -44.9738753\n",
      "  -45.60060464 -45.32638131 -46.50503422 -47.02608121 -45.86139135\n",
      "  -47.09091595 -46.06878527 -45.86003663 -46.2613499  -48.31605361\n",
      "  -46.27787378 -46.88400033 -45.50220622 -46.65033933 -45.20486271\n",
      "  -46.24893324 -45.3976778  -45.81053371 -48.34697301 -49.01203871\n",
      "  -45.24322937 -46.36854407 -46.54285026 -47.18996848 -45.81757114\n",
      "  -46.10680404 -47.20300305 -44.82496717 -48.20101341 -45.85987478\n",
      "  -46.59509158 -46.53450439 -46.9273372  -47.40252705 -45.31305792\n",
      "  -44.73375965 -47.99061271 -47.11656149 -45.72717053 -46.05777105\n",
      "  -47.43828375 -44.85765786 -48.54839104 -46.99104525 -47.30612625\n",
      "  -46.87035248 -45.72163025 -47.10998807 -46.28649417 -45.4171931\n",
      "  -46.84071192 -45.29134507 -45.58415966 -46.71484438 -47.26258927\n",
      "  -47.09320955 -46.27185754 -44.55178473 -46.65748959 -48.32354201\n",
      "  -46.86603227 -46.45163945 -45.71438864 -46.36043327 -44.75020583\n",
      "  -44.74204563 -47.12341593 -43.85789759 -47.64396448 -47.44837998\n",
      "  -45.04402583 -46.01613456 -46.56218694 -48.48703067 -48.38301914\n",
      "  -45.66474975 -46.37186691 -48.08201624 -46.74473868 -47.43411753\n",
      "  -46.08866694 -47.07180644 -46.96068844 -46.67545302 -47.52182829\n",
      "  -45.09299966 -46.47674851 -46.82526176 -47.04221802 -46.50898259\n",
      "  -45.5007652  -47.92580059 -46.23086286 -46.66915056 -46.69722817\n",
      "  -47.79621073 -46.78016944 -45.5172946  -45.83749854 -47.26054056\n",
      "  -47.66806497 -45.74629741 -47.89577655 -45.91245281 -46.2008466\n",
      "  -47.44584748 -47.70264399 -45.32239101 -46.38293671 -46.05884139\n",
      "  -45.55945385 -48.28193685 -46.65453197 -46.82359637 -46.63783246\n",
      "  -46.59081413 -45.81472316 -46.99779739 -45.79476116 -46.07914709\n",
      "  -46.86173634 -47.57768064 -45.14557279 -47.05284008 -47.60701805\n",
      "  -47.07440944 -46.42152703 -45.46507245 -49.04660526 -46.68863533\n",
      "  -46.3093425  -46.50438323 -45.26273652 -44.65166215 -46.25825627\n",
      "  -48.2328523  -45.08589558 -46.50776247 -46.52843235 -45.43177238\n",
      "  -45.74141514 -46.79992262 -44.95094119 -48.00749475 -47.63309807\n",
      "  -46.50963442 -43.88723444 -48.00890864 -45.75582107 -45.98948199\n",
      "  -46.1159532  -47.69037219 -47.41428861 -47.85368476 -47.62448064\n",
      "  -46.07297199 -48.00872653 -48.70589099 -48.32009192 -47.0059359\n",
      "  -45.27191851 -46.1593984  -46.93272913 -46.85310091 -48.27798187\n",
      "  -44.82398393 -46.70927131 -46.02157053 -44.53830047 -45.98727849\n",
      "  -48.03699526 -45.99856962 -46.81555601 -45.08426877 -46.61219605\n",
      "  -45.57346264 -46.1605381  -48.57606162 -45.68979511 -46.82927775\n",
      "  -47.4619628  -45.68779042 -47.55965588 -45.65255601 -47.78053654\n",
      "  -46.45282607 -45.3513449  -44.06729467 -44.59446558 -46.40300921\n",
      "  -46.0409173  -45.59029523 -45.024933   -46.22235938 -45.7516313\n",
      "  -45.70540791 -45.69016726 -45.6973596  -47.74107487 -47.78449593\n",
      "  -46.07026378 -43.24957311 -46.09183738 -46.51960038 -45.92315583\n",
      "  -47.36755672 -46.316337   -45.19946024 -44.75520211 -47.35480681]]\n"
     ]
    }
   ],
   "source": [
    "print(np.dot(x[0],x[-1]) + np.random.randn(1,500))"
   ]
  },
  {
   "cell_type": "code",
   "execution_count": 67,
   "metadata": {},
   "outputs": [],
   "source": [
    "test_feed = np.dot(x[0],x[-1]) + np.random.randn(1,500)"
   ]
  },
  {
   "cell_type": "code",
   "execution_count": 68,
   "metadata": {},
   "outputs": [
    {
     "data": {
      "text/plain": [
       "0"
      ]
     },
     "execution_count": 68,
     "metadata": {},
     "output_type": "execute_result"
    }
   ],
   "source": [
    "test_decision = np.dot(test_feed, np.random.randn(500,3))\n",
    "np.argmax(test_decision[0])"
   ]
  },
  {
   "cell_type": "code",
   "execution_count": 70,
   "metadata": {},
   "outputs": [
    {
     "data": {
      "text/plain": [
       "2502"
      ]
     },
     "execution_count": 70,
     "metadata": {},
     "output_type": "execute_result"
    }
   ],
   "source": [
    "test_buy = np.dot(test_feed, np.random.randn(500,1))\n",
    "int(test_buy[0])"
   ]
  },
  {
   "cell_type": "code",
   "execution_count": 73,
   "metadata": {},
   "outputs": [
    {
     "data": {
      "text/plain": [
       "array([0.110298, 0.110019, 0.105551, 0.106668, 0.107785])"
      ]
     },
     "execution_count": 73,
     "metadata": {},
     "output_type": "execute_result"
    }
   ],
   "source": [
    "close = df[\"Close\"].values\n",
    "close[:5]"
   ]
  },
  {
   "cell_type": "code",
   "execution_count": 76,
   "metadata": {},
   "outputs": [
    {
     "name": "stdout",
     "output_type": "stream",
     "text": [
      "0 31\n",
      "-30\n",
      "[0.220596 0.220596 0.220596 0.220596 0.220596 0.220596 0.220596 0.220596\n",
      " 0.220596 0.220596 0.220596 0.220596 0.220596 0.220596 0.220596 0.220596\n",
      " 0.220596 0.220596 0.220596 0.220596 0.220596 0.220596 0.220596 0.220596\n",
      " 0.220596 0.220596 0.220596 0.220596 0.220596 0.220596]\n"
     ]
    }
   ],
   "source": [
    "get_state(close, 0, 30+1)"
   ]
  },
  {
   "cell_type": "code",
   "execution_count": 92,
   "metadata": {},
   "outputs": [
    {
     "data": {
      "text/plain": [
       "-29"
      ]
     },
     "execution_count": 92,
     "metadata": {},
     "output_type": "execute_result"
    }
   ],
   "source": [
    "d = 1 - 31 + 1\n",
    "d"
   ]
  },
  {
   "cell_type": "code",
   "execution_count": 93,
   "metadata": {},
   "outputs": [
    {
     "ename": "ValueError",
     "evalue": "operands could not be broadcast together with shapes (29,) (2,) ",
     "output_type": "error",
     "traceback": [
      "\u001b[1;31m---------------------------------------------------------------------------\u001b[0m",
      "\u001b[1;31mValueError\u001b[0m                                Traceback (most recent call last)",
      "\u001b[1;32m<ipython-input-93-d051ac726344>\u001b[0m in \u001b[0;36m<module>\u001b[1;34m\u001b[0m\n\u001b[1;32m----> 1\u001b[1;33m \u001b[0mblock\u001b[0m \u001b[1;33m=\u001b[0m \u001b[1;33m-\u001b[0m\u001b[0md\u001b[0m \u001b[1;33m*\u001b[0m \u001b[1;33m[\u001b[0m\u001b[0mclose\u001b[0m\u001b[1;33m[\u001b[0m\u001b[1;36m1\u001b[0m\u001b[1;33m]\u001b[0m\u001b[1;33m]\u001b[0m \u001b[1;33m+\u001b[0m \u001b[0mclose\u001b[0m\u001b[1;33m[\u001b[0m\u001b[1;36m0\u001b[0m\u001b[1;33m:\u001b[0m\u001b[1;36m1\u001b[0m \u001b[1;33m+\u001b[0m \u001b[1;36m1\u001b[0m\u001b[1;33m]\u001b[0m\u001b[1;33m\u001b[0m\u001b[1;33m\u001b[0m\u001b[0m\n\u001b[0m\u001b[0;32m      2\u001b[0m \u001b[0mblock\u001b[0m\u001b[1;33m\u001b[0m\u001b[1;33m\u001b[0m\u001b[0m\n",
      "\u001b[1;31mValueError\u001b[0m: operands could not be broadcast together with shapes (29,) (2,) "
     ]
    }
   ],
   "source": [
    "block = -d * [close[1]] + close[0:1 + 1]\n",
    "block"
   ]
  },
  {
   "cell_type": "code",
   "execution_count": 88,
   "metadata": {},
   "outputs": [
    {
     "data": {
      "text/plain": [
       "array([0.220596, 0.220596, 0.220596, 0.220596, 0.220596, 0.220596,\n",
       "       0.220596, 0.220596, 0.220596, 0.220596, 0.220596, 0.220596,\n",
       "       0.220596, 0.220596, 0.220596, 0.220596, 0.220596, 0.220596,\n",
       "       0.220596, 0.220596, 0.220596, 0.220596, 0.220596, 0.220596,\n",
       "       0.220596, 0.220596, 0.220596, 0.220596, 0.220596, 0.220596])"
      ]
     },
     "execution_count": 88,
     "metadata": {},
     "output_type": "execute_result"
    }
   ],
   "source": [
    "30 * [close[0]] + close[0:1]"
   ]
  },
  {
   "cell_type": "code",
   "execution_count": 91,
   "metadata": {},
   "outputs": [
    {
     "name": "stdout",
     "output_type": "stream",
     "text": [
      "1\n",
      "2\n",
      "3\n",
      "4\n",
      "5\n",
      "6\n",
      "7\n",
      "8\n",
      "9\n",
      "10\n",
      "11\n",
      "12\n",
      "13\n",
      "14\n",
      "15\n",
      "16\n",
      "17\n",
      "18\n",
      "19\n",
      "20\n",
      "21\n",
      "22\n",
      "23\n",
      "24\n",
      "25\n",
      "26\n",
      "27\n",
      "28\n",
      "29\n",
      "30\n"
     ]
    }
   ],
   "source": [
    "n = 31\n",
    "res = []\n",
    "for i in range(n - 1):\n",
    "    print(i+1)\n",
    "    #res.append(block[i + 1] - block[i])"
   ]
  },
  {
   "cell_type": "code",
   "execution_count": null,
   "metadata": {},
   "outputs": [],
   "source": []
  }
 ],
 "metadata": {
  "kernelspec": {
   "display_name": "Python 3",
   "language": "python",
   "name": "python3"
  },
  "language_info": {
   "codemirror_mode": {
    "name": "ipython",
    "version": 3
   },
   "file_extension": ".py",
   "mimetype": "text/x-python",
   "name": "python",
   "nbconvert_exporter": "python",
   "pygments_lexer": "ipython3",
   "version": "3.8.2"
  }
 },
 "nbformat": 4,
 "nbformat_minor": 4
}
